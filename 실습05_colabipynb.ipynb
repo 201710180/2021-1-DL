{
  "nbformat": 4,
  "nbformat_minor": 0,
  "metadata": {
    "colab": {
      "name": "실습05_colabipynb",
      "provenance": [],
      "collapsed_sections": [],
      "machine_shape": "hm",
      "authorship_tag": "ABX9TyNWV8XM+uMMa5xHe/arPO53",
      "include_colab_link": true
    },
    "kernelspec": {
      "name": "python3",
      "display_name": "Python 3"
    },
    "language_info": {
      "name": "python"
    },
    "accelerator": "GPU"
  },
  "cells": [
    {
      "cell_type": "markdown",
      "metadata": {
        "id": "view-in-github",
        "colab_type": "text"
      },
      "source": [
        "<a href=\"https://colab.research.google.com/github/Jiyeon00/2021-1-DL/blob/main/%EC%8B%A4%EC%8A%B505_colabipynb.ipynb\" target=\"_parent\"><img src=\"https://colab.research.google.com/assets/colab-badge.svg\" alt=\"Open In Colab\"/></a>"
      ]
    },
    {
      "cell_type": "code",
      "metadata": {
        "colab": {
          "base_uri": "https://localhost:8080/"
        },
        "id": "Z3iKDgI7GwEg",
        "outputId": "77a65a67-c39a-425f-c5ca-82b73587d80b"
      },
      "source": [
        "!git clone https://github.com/Jiyeon00/2021-1-DL.git"
      ],
      "execution_count": 1,
      "outputs": [
        {
          "output_type": "stream",
          "text": [
            "fatal: destination path '2021-1-DL' already exists and is not an empty directory.\n"
          ],
          "name": "stdout"
        }
      ]
    },
    {
      "cell_type": "code",
      "metadata": {
        "id": "W9KoEjB91Kzm"
      },
      "source": [
        "import torch\n",
        "import torch.nn as nn\n",
        "import torchvision.datasets as dset\n",
        "import torchvision.transforms as transforms\n",
        "from torch.utils.data import DataLoader\n",
        "from torch.autograd import Variable\n",
        "import matplotlib.pyplot as plt\n",
        "%matplotlib inline"
      ],
      "execution_count": 2,
      "outputs": []
    },
    {
      "cell_type": "code",
      "metadata": {
        "id": "o05hA89C2Ixh"
      },
      "source": [
        "mnist_train=dset.MNIST(\"\", train=True, transform=transforms.ToTensor(),\n",
        "                      target_transform=None, download=True)\n",
        "mnist_test=dset.MNIST(\"\", train=False, transform=transforms.ToTensor(),\n",
        "                      target_transform=None, download=True)"
      ],
      "execution_count": 3,
      "outputs": []
    },
    {
      "cell_type": "code",
      "metadata": {
        "colab": {
          "base_uri": "https://localhost:8080/",
          "height": 351
        },
        "id": "EwjvgCbP2Rot",
        "outputId": "af5cf3f4-ae8d-4913-f555-b3c336012637"
      },
      "source": [
        "print(\"mnist_train 길이 : \", len(mnist_train))\n",
        "print(\"mnist_test 길이 : \", len(mnist_test))\n",
        "\n",
        "# 데이터 하나 형태\n",
        "image, label = mnist_train.__getitem__(0)\n",
        "print(\"image data 형태: \", image.size())\n",
        "print(\"label: \", label)\n",
        "\n",
        "# 그리기\n",
        "img = image.numpy() # image 타입을 numpy로 변환함 (1,28,28)\n",
        "plt.title(\"label: %d\" %label)\n",
        "plt.imshow(img[0], cmap=\"gray\")\n",
        "plt.show()"
      ],
      "execution_count": 4,
      "outputs": [
        {
          "output_type": "stream",
          "text": [
            "mnist_train 길이 :  60000\n",
            "mnist_test 길이 :  10000\n",
            "image data 형태:  torch.Size([1, 28, 28])\n",
            "label:  5\n"
          ],
          "name": "stdout"
        },
        {
          "output_type": "display_data",
          "data": {
            "image/png": "[encoded data removed]",
            "text/plain": [
              "<Figure size 432x288 with 1 Axes>"
            ]
          },
          "metadata": {
            "tags": [],
            "needs_background": "light"
          }
        }
      ]
    },
    {
      "cell_type": "code",
      "metadata": {
        "colab": {
          "base_uri": "https://localhost:8080/",
          "height": 848
        },
        "id": "CWWxgIoo2Urs",
        "outputId": "b0755119-0da3-4c8f-915c-0575b9f61eb7"
      },
      "source": [
        "print(mnist_train[0][1]) #label\n",
        "print(mnist_train[0][0].size) #image\n",
        "\n",
        "for i in range(3):\n",
        "  img=mnist_train[i][0].numpy()\n",
        "  print(mnist_train[i][1])\n",
        "  plt.imshow(img[0], cmap='gray')\n",
        "  plt.show()"
      ],
      "execution_count": 5,
      "outputs": [
        {
          "output_type": "stream",
          "text": [
            "5\n",
            "<built-in method size of Tensor object at 0x7fb79aaf89b0>\n",
            "5\n"
          ],
          "name": "stdout"
        },
        {
          "output_type": "display_data",
          "data": {
            "image/png": "[encoded data removed]",
            "text/plain": [
              "<Figure size 432x288 with 1 Axes>"
            ]
          },
          "metadata": {
            "tags": [],
            "needs_background": "light"
          }
        },
        {
          "output_type": "stream",
          "text": [
            "0\n"
          ],
          "name": "stdout"
        },
        {
          "output_type": "display_data",
          "data": {
            "image/png": "[encoded data removed]",
            "text/plain": [
              "<Figure size 432x288 with 1 Axes>"
            ]
          },
          "metadata": {
            "tags": [],
            "needs_background": "light"
          }
        },
        {
          "output_type": "stream",
          "text": [
            "4\n"
          ],
          "name": "stdout"
        },
        {
          "output_type": "display_data",
          "data": {
            "image/png": "[encoded data removed]",
            "text/plain": [
              "<Figure size 432x288 with 1 Axes>"
            ]
          },
          "metadata": {
            "tags": [],
            "needs_background": "light"
          }
        }
      ]
    },
    {
      "cell_type": "code",
      "metadata": {
        "colab": {
          "base_uri": "https://localhost:8080/",
          "height": 831
        },
        "id": "-lybgTaK4FHZ",
        "outputId": "e7ce9bdb-5a77-439a-c314-36130d2d88f4"
      },
      "source": [
        "# mnist 의 첫 번째 이미지, 라벨 가져오기\n",
        "img,label=mnist_train[0]\n",
        "print(image.size)\n",
        "# view : tensor의 사이즈 조절. -1: 해당 차원 차원 확장 시켜라\n",
        "# [1,28,28] -> [1,1,28,28] 여기서 추가된 차원은 batch_size 를 의미함.\n",
        "image=image.view(-1, image.size()[0], image.size()[1], image.size()[2])\n",
        "\n",
        "print(image.size())\n",
        "\n",
        "\n",
        "print(label)\n",
        "\n",
        "# convolusional filter 정의\n",
        "conv_layer=nn.Conv2d(in_channels=1,out_channels=3,kernel_size=3,padding=1)\n",
        "# in_c -> 흑백 이미지라 1 channel, out_c -> 3짜리 채널을 만들겠다는 의미.\n",
        "# default 로 zero padding\n",
        "\n",
        "# image 에 filter 적용\n",
        "output = conv_layer(Variable(image)) \n",
        "# Variable로 image를 감싸서 넣어줌.CNN, FC 구조에 넣을 때 모두 Variable\n",
        "print(output.size())\n",
        "\n",
        "for i in range(3):\n",
        "  plt.imshow(output[0,i,:,:].data.numpy(), cmap='gray')\n",
        "  plt.show()"
      ],
      "execution_count": 6,
      "outputs": [
        {
          "output_type": "stream",
          "text": [
            "<built-in method size of Tensor object at 0x7fb7997ec230>\n",
            "torch.Size([1, 1, 28, 28])\n",
            "5\n",
            "torch.Size([1, 3, 28, 28])\n"
          ],
          "name": "stdout"
        },
        {
          "output_type": "display_data",
          "data": {
            "image/png": "[encoded data removed]",
            "text/plain": [
              "<Figure size 432x288 with 1 Axes>"
            ]
          },
          "metadata": {
            "tags": [],
            "needs_background": "light"
          }
        },
        {
          "output_type": "display_data",
          "data": {
            "image/png": "[encoded data removed]",
            "text/plain": [
              "<Figure size 432x288 with 1 Axes>"
            ]
          },
          "metadata": {
            "tags": [],
            "needs_background": "light"
          }
        },
        {
          "output_type": "display_data",
          "data": {
            "image/png": "[encoded data removed]",
            "text/plain": [
              "<Figure size 432x288 with 1 Axes>"
            ]
          },
          "metadata": {
            "tags": [],
            "needs_background": "light"
          }
        }
      ]
    },
    {
      "cell_type": "code",
      "metadata": {
        "id": "htOSuYpO6zgn"
      },
      "source": [
        "import numpy as np\n",
        "import torch.optim as optim\n",
        "\n",
        "batch_size = 16\n",
        "learning_rate=0.0002\n",
        "num_epoch = 10 # 1000"
      ],
      "execution_count": 7,
      "outputs": []
    },
    {
      "cell_type": "code",
      "metadata": {
        "id": "UUxGoErx8xBh"
      },
      "source": [
        "# 후에 학습 시킬 때 batch_size 단위로 학습시켜나감\n",
        "train_loader = torch.utils.data.DataLoader(list(mnist_train)[:batch_size*100], batch_size=batch_size, shuffle=True, num_workers=2, drop_last=True)\n",
        "test_loader = torch.utils.data.DataLoader((mnist_test), batch_size=batch_size, shuffle=False, num_workers=2, drop_last=True)"
      ],
      "execution_count": 8,
      "outputs": []
    },
    {
      "cell_type": "code",
      "metadata": {
        "id": "MWbPkvOT9lig"
      },
      "source": [
        "class CNN(nn.Module):\n",
        "  def __init__(self):\n",
        "    super(CNN, self).__init__() # 28 * 28\n",
        "    self.layer=nn.Sequential(\n",
        "        nn.Conv2d(1,16,5,padding=2),\n",
        "        nn.ReLU(),\n",
        "\n",
        "        nn.Conv2d(16,32,5,padding=2),\n",
        "        nn.ReLU(),\n",
        "        nn.MaxPool2d(2,2),\n",
        "\n",
        "        nn.Conv2d(32,64,5,padding=2),\n",
        "        nn.ReLU(),\n",
        "        nn.MaxPool2d(2,2)\n",
        "    )\n",
        "    self.fc_layer=nn.Sequential(\n",
        "        nn.Linear(64*7*7,100),\n",
        "        nn.ReLU(),\n",
        "        nn.Linear(100,10)\n",
        "    )\n",
        "\n",
        "  def forward(self,x):\n",
        "    out=self.layer(x)\n",
        "    out=out.view(batch_size, -1)\n",
        "    out=self.fc_layer(out)\n",
        "    return out\n",
        "\n",
        "#model = CNN()  \n",
        "model = CNN().cuda()     "
      ],
      "execution_count": 9,
      "outputs": []
    },
    {
      "cell_type": "code",
      "metadata": {
        "colab": {
          "base_uri": "https://localhost:8080/"
        },
        "id": "J5gW8g6Y_aMI",
        "outputId": "9d69f730-f0f0-4b4f-f441-434305b80c45"
      },
      "source": [
        "# 파라미터 체크하기\n",
        "for parameter in model.parameters():\n",
        "  print(parameter.shape)\n",
        "  #print(parameter)"
      ],
      "execution_count": 10,
      "outputs": [
        {
          "output_type": "stream",
          "text": [
            "torch.Size([16, 1, 5, 5])\n",
            "torch.Size([16])\n",
            "torch.Size([32, 16, 5, 5])\n",
            "torch.Size([32])\n",
            "torch.Size([64, 32, 5, 5])\n",
            "torch.Size([64])\n",
            "torch.Size([100, 3136])\n",
            "torch.Size([100])\n",
            "torch.Size([10, 100])\n",
            "torch.Size([10])\n"
          ],
          "name": "stdout"
        }
      ]
    },
    {
      "cell_type": "code",
      "metadata": {
        "id": "iDFvVaPg_sN0"
      },
      "source": [
        "# loss function, optimizer 선언\n",
        "loss_func = nn.CrossEntropyLoss()\n",
        "optimizer=torch.optim.Adam(model.parameters(), lr=learning_rate)"
      ],
      "execution_count": 11,
      "outputs": []
    },
    {
      "cell_type": "code",
      "metadata": {
        "colab": {
          "base_uri": "https://localhost:8080/"
        },
        "id": "K9WHo8OoABIm",
        "outputId": "92783bf4-f0b4-434a-e742-d0160d9dfbbc"
      },
      "source": [
        "for i in range(num_epoch):\n",
        "  for j, [image, label] in enumerate(train_loader):\n",
        "    #x = Variable(image)\n",
        "    #y_ = Variable(label)\n",
        "\n",
        "    x = Variable(image).cuda()\n",
        "    y_ = Variable(label).cuda()\n",
        "\n",
        "    optimizer.zero_grad() #optimizer  안에서 이전 gradient들을 초기화함.\n",
        "    output=model.forward(x)\n",
        "    loss = loss_func(output, y_)\n",
        "    loss.backward() # gradient 계산\n",
        "    optimizer.step() # parameter 업데이트\n",
        "\n",
        "    if j%50==0:\n",
        "      print(loss,j,i)"
      ],
      "execution_count": 12,
      "outputs": [
        {
          "output_type": "stream",
          "text": [
            "tensor(2.2909, device='cuda:0', grad_fn=<NllLossBackward>) 0 0\n",
            "tensor(1.6218, device='cuda:0', grad_fn=<NllLossBackward>) 50 0\n",
            "tensor(0.5839, device='cuda:0', grad_fn=<NllLossBackward>) 0 1\n",
            "tensor(0.4642, device='cuda:0', grad_fn=<NllLossBackward>) 50 1\n",
            "tensor(0.2250, device='cuda:0', grad_fn=<NllLossBackward>) 0 2\n",
            "tensor(0.1805, device='cuda:0', grad_fn=<NllLossBackward>) 50 2\n",
            "tensor(0.5494, device='cuda:0', grad_fn=<NllLossBackward>) 0 3\n",
            "tensor(0.1076, device='cuda:0', grad_fn=<NllLossBackward>) 50 3\n",
            "tensor(0.1571, device='cuda:0', grad_fn=<NllLossBackward>) 0 4\n",
            "tensor(0.4542, device='cuda:0', grad_fn=<NllLossBackward>) 50 4\n",
            "tensor(0.1263, device='cuda:0', grad_fn=<NllLossBackward>) 0 5\n",
            "tensor(0.0610, device='cuda:0', grad_fn=<NllLossBackward>) 50 5\n",
            "tensor(0.1663, device='cuda:0', grad_fn=<NllLossBackward>) 0 6\n",
            "tensor(0.0236, device='cuda:0', grad_fn=<NllLossBackward>) 50 6\n",
            "tensor(0.0406, device='cuda:0', grad_fn=<NllLossBackward>) 0 7\n",
            "tensor(0.0482, device='cuda:0', grad_fn=<NllLossBackward>) 50 7\n",
            "tensor(0.0700, device='cuda:0', grad_fn=<NllLossBackward>) 0 8\n",
            "tensor(0.0208, device='cuda:0', grad_fn=<NllLossBackward>) 50 8\n",
            "tensor(0.0258, device='cuda:0', grad_fn=<NllLossBackward>) 0 9\n",
            "tensor(0.0297, device='cuda:0', grad_fn=<NllLossBackward>) 50 9\n"
          ],
          "name": "stdout"
        }
      ]
    },
    {
      "cell_type": "code",
      "metadata": {
        "colab": {
          "base_uri": "https://localhost:8080/"
        },
        "id": "_-tj3U1gCgje",
        "outputId": "f13549dd-3863-484d-bebb-d696503bc57e"
      },
      "source": [
        "from google.colab import drive\n",
        "drive.mount('/content/gdrive/')\n"
      ],
      "execution_count": 13,
      "outputs": [
        {
          "output_type": "stream",
          "text": [
            "Drive already mounted at /content/gdrive/; to attempt to forcibly remount, call drive.mount(\"/content/gdrive/\", force_remount=True).\n"
          ],
          "name": "stdout"
        }
      ]
    },
    {
      "cell_type": "code",
      "metadata": {
        "id": "6a_vL0wLB_xt"
      },
      "source": [
        "# 모델 저장하기\n",
        "torch.save(model,'/content/gdrive/MyDrive/DL_proj_model_save/proj_05.pkl')"
      ],
      "execution_count": 14,
      "outputs": []
    },
    {
      "cell_type": "code",
      "metadata": {
        "colab": {
          "base_uri": "https://localhost:8080/"
        },
        "id": "BJawRNn7DBmD",
        "outputId": "4b749792-0ff5-4049-c1dd-bbdfc602110a"
      },
      "source": [
        "try:\n",
        "  # 미리 학습시킨 네트워크의 파라미터 집합 [피클]이라 발음함.\n",
        "  model=torch.load('/content/gdrive/MyDrive/DL_proj_model_save/proj_05.pkl')\n",
        "  print(\"model restored\")\n",
        "except:\n",
        "  print('model not restored')"
      ],
      "execution_count": 15,
      "outputs": [
        {
          "output_type": "stream",
          "text": [
            "model restored\n"
          ],
          "name": "stdout"
        }
      ]
    },
    {
      "cell_type": "code",
      "metadata": {
        "id": "DlnNgC8dDh3X"
      },
      "source": [
        "def ComputeAccr(dloader, imodel):\n",
        "  correct = 0\n",
        "  total = 0\n",
        "\n",
        "  for j, [imgs,labels] in enumerate(dloader):\n",
        "    #img=Variable(imgs)\n",
        "    #label=Variable(labels)\n",
        "\n",
        "    img=Variable(imgs).cuda()\n",
        "    label=Variable(labels).cuda()\n",
        "\n",
        "    output = imodel.forward(img)\n",
        "    _, output_index = torch.max(output,1)\n",
        "\n",
        "    total += label.size(0)\n",
        "    correct += (output_index == label).sum().float()\n",
        "  print(\"Accuracy of Test Data : {}\".format(100*correct/total))"
      ],
      "execution_count": 16,
      "outputs": []
    },
    {
      "cell_type": "code",
      "metadata": {
        "colab": {
          "base_uri": "https://localhost:8080/"
        },
        "id": "LreQqFPcEPy1",
        "outputId": "a43c76ed-7400-4fb9-e72e-f21391298431"
      },
      "source": [
        "ComputeAccr(test_loader, model)"
      ],
      "execution_count": 17,
      "outputs": [
        {
          "output_type": "stream",
          "text": [
            "Accuracy of Test Data : 92.15999603271484\n"
          ],
          "name": "stdout"
        }
      ]
    },
    {
      "cell_type": "code",
      "metadata": {
        "id": "kxDqYugOESvw"
      },
      "source": [
        ""
      ],
      "execution_count": 17,
      "outputs": []
    }
  ]
}