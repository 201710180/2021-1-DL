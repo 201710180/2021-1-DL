{
  "nbformat": 4,
  "nbformat_minor": 5,
  "metadata": {
    "kernelspec": {
      "display_name": "conda_pytorch_p36",
      "language": "python",
      "name": "conda_pytorch_p36"
    },
    "language_info": {
      "codemirror_mode": {
        "name": "ipython",
        "version": 3
      },
      "file_extension": ".py",
      "mimetype": "text/x-python",
      "name": "python",
      "nbconvert_exporter": "python",
      "pygments_lexer": "ipython3",
      "version": "3.6.13"
    },
    "colab": {
      "name": "python3_201710180_강지연.ipynb",
      "provenance": [],
      "toc_visible": true,
      "include_colab_link": true
    },
    "accelerator": "GPU",
    "widgets": {
      "application/vnd.jupyter.widget-state+json": {
        "0ebff0654d924adeadbd50b92365bbf1": {
          "model_module": "@jupyter-widgets/controls",
          "model_name": "HBoxModel",
          "state": {
            "_view_name": "HBoxView",
            "_dom_classes": [],
            "_model_name": "HBoxModel",
            "_view_module": "@jupyter-widgets/controls",
            "_model_module_version": "1.5.0",
            "_view_count": null,
            "_view_module_version": "1.5.0",
            "box_style": "",
            "layout": "IPY_MODEL_f117775d880d408d9f11fe3f65386c7f",
            "_model_module": "@jupyter-widgets/controls",
            "children": [
              "IPY_MODEL_2255100b9a4348cb9d4e3bf0520fe87e",
              "IPY_MODEL_aa6013d35a30487290d3128ce8232d9d"
            ]
          }
        },
        "f117775d880d408d9f11fe3f65386c7f": {
          "model_module": "@jupyter-widgets/base",
          "model_name": "LayoutModel",
          "state": {
            "_view_name": "LayoutView",
            "grid_template_rows": null,
            "right": null,
            "justify_content": null,
            "_view_module": "@jupyter-widgets/base",
            "overflow": null,
            "_model_module_version": "1.2.0",
            "_view_count": null,
            "flex_flow": null,
            "width": null,
            "min_width": null,
            "border": null,
            "align_items": null,
            "bottom": null,
            "_model_module": "@jupyter-widgets/base",
            "top": null,
            "grid_column": null,
            "overflow_y": null,
            "overflow_x": null,
            "grid_auto_flow": null,
            "grid_area": null,
            "grid_template_columns": null,
            "flex": null,
            "_model_name": "LayoutModel",
            "justify_items": null,
            "grid_row": null,
            "max_height": null,
            "align_content": null,
            "visibility": null,
            "align_self": null,
            "height": null,
            "min_height": null,
            "padding": null,
            "grid_auto_rows": null,
            "grid_gap": null,
            "max_width": null,
            "order": null,
            "_view_module_version": "1.2.0",
            "grid_template_areas": null,
            "object_position": null,
            "object_fit": null,
            "grid_auto_columns": null,
            "margin": null,
            "display": null,
            "left": null
          }
        },
        "2255100b9a4348cb9d4e3bf0520fe87e": {
          "model_module": "@jupyter-widgets/controls",
          "model_name": "FloatProgressModel",
          "state": {
            "_view_name": "ProgressView",
            "style": "IPY_MODEL_8a036711b31942b9a8a82bacf0506daf",
            "_dom_classes": [],
            "description": "100%",
            "_model_name": "FloatProgressModel",
            "bar_style": "success",
            "max": 574673361,
            "_view_module": "@jupyter-widgets/controls",
            "_model_module_version": "1.5.0",
            "value": 574673361,
            "_view_count": null,
            "_view_module_version": "1.5.0",
            "orientation": "horizontal",
            "min": 0,
            "description_tooltip": null,
            "_model_module": "@jupyter-widgets/controls",
            "layout": "IPY_MODEL_95ab9243261340b9912668d339db4bea"
          }
        },
        "aa6013d35a30487290d3128ce8232d9d": {
          "model_module": "@jupyter-widgets/controls",
          "model_name": "HTMLModel",
          "state": {
            "_view_name": "HTMLView",
            "style": "IPY_MODEL_2641b973a95d4aa8a5e6ae526ee9e1c8",
            "_dom_classes": [],
            "description": "",
            "_model_name": "HTMLModel",
            "placeholder": "​",
            "_view_module": "@jupyter-widgets/controls",
            "_model_module_version": "1.5.0",
            "value": " 548M/548M [00:03&lt;00:00, 169MB/s]",
            "_view_count": null,
            "_view_module_version": "1.5.0",
            "description_tooltip": null,
            "_model_module": "@jupyter-widgets/controls",
            "layout": "IPY_MODEL_99e582744cfa4950b67f18cbc00f223e"
          }
        },
        "8a036711b31942b9a8a82bacf0506daf": {
          "model_module": "@jupyter-widgets/controls",
          "model_name": "ProgressStyleModel",
          "state": {
            "_view_name": "StyleView",
            "_model_name": "ProgressStyleModel",
            "description_width": "initial",
            "_view_module": "@jupyter-widgets/base",
            "_model_module_version": "1.5.0",
            "_view_count": null,
            "_view_module_version": "1.2.0",
            "bar_color": null,
            "_model_module": "@jupyter-widgets/controls"
          }
        },
        "95ab9243261340b9912668d339db4bea": {
          "model_module": "@jupyter-widgets/base",
          "model_name": "LayoutModel",
          "state": {
            "_view_name": "LayoutView",
            "grid_template_rows": null,
            "right": null,
            "justify_content": null,
            "_view_module": "@jupyter-widgets/base",
            "overflow": null,
            "_model_module_version": "1.2.0",
            "_view_count": null,
            "flex_flow": null,
            "width": null,
            "min_width": null,
            "border": null,
            "align_items": null,
            "bottom": null,
            "_model_module": "@jupyter-widgets/base",
            "top": null,
            "grid_column": null,
            "overflow_y": null,
            "overflow_x": null,
            "grid_auto_flow": null,
            "grid_area": null,
            "grid_template_columns": null,
            "flex": null,
            "_model_name": "LayoutModel",
            "justify_items": null,
            "grid_row": null,
            "max_height": null,
            "align_content": null,
            "visibility": null,
            "align_self": null,
            "height": null,
            "min_height": null,
            "padding": null,
            "grid_auto_rows": null,
            "grid_gap": null,
            "max_width": null,
            "order": null,
            "_view_module_version": "1.2.0",
            "grid_template_areas": null,
            "object_position": null,
            "object_fit": null,
            "grid_auto_columns": null,
            "margin": null,
            "display": null,
            "left": null
          }
        },
        "2641b973a95d4aa8a5e6ae526ee9e1c8": {
          "model_module": "@jupyter-widgets/controls",
          "model_name": "DescriptionStyleModel",
          "state": {
            "_view_name": "StyleView",
            "_model_name": "DescriptionStyleModel",
            "description_width": "",
            "_view_module": "@jupyter-widgets/base",
            "_model_module_version": "1.5.0",
            "_view_count": null,
            "_view_module_version": "1.2.0",
            "_model_module": "@jupyter-widgets/controls"
          }
        },
        "99e582744cfa4950b67f18cbc00f223e": {
          "model_module": "@jupyter-widgets/base",
          "model_name": "LayoutModel",
          "state": {
            "_view_name": "LayoutView",
            "grid_template_rows": null,
            "right": null,
            "justify_content": null,
            "_view_module": "@jupyter-widgets/base",
            "overflow": null,
            "_model_module_version": "1.2.0",
            "_view_count": null,
            "flex_flow": null,
            "width": null,
            "min_width": null,
            "border": null,
            "align_items": null,
            "bottom": null,
            "_model_module": "@jupyter-widgets/base",
            "top": null,
            "grid_column": null,
            "overflow_y": null,
            "overflow_x": null,
            "grid_auto_flow": null,
            "grid_area": null,
            "grid_template_columns": null,
            "flex": null,
            "_model_name": "LayoutModel",
            "justify_items": null,
            "grid_row": null,
            "max_height": null,
            "align_content": null,
            "visibility": null,
            "align_self": null,
            "height": null,
            "min_height": null,
            "padding": null,
            "grid_auto_rows": null,
            "grid_gap": null,
            "max_width": null,
            "order": null,
            "_view_module_version": "1.2.0",
            "grid_template_areas": null,
            "object_position": null,
            "object_fit": null,
            "grid_auto_columns": null,
            "margin": null,
            "display": null,
            "left": null
          }
        }
      }
    }
  },
  "cells": [
    {
      "cell_type": "markdown",
      "metadata": {
        "id": "view-in-github",
        "colab_type": "text"
      },
      "source": [
        "<a href=\"https://colab.research.google.com/github/Jiyeon00/2021-1-DL/blob/main/python3_201710180_%EA%B0%95%EC%A7%80%EC%97%B0.ipynb\" target=\"_parent\"><img src=\"https://colab.research.google.com/assets/colab-badge.svg\" alt=\"Open In Colab\"/></a>"
      ]
    },
    {
      "cell_type": "code",
      "metadata": {
        "colab": {
          "base_uri": "https://localhost:8080/"
        },
        "id": "KfNW3y9xKzsk",
        "outputId": "13174036-1ee9-43cd-fcc8-13d3ec4bc013"
      },
      "source": [
        "from google.colab import drive\n",
        "drive.mount(\"/content/drive\")"
      ],
      "id": "KfNW3y9xKzsk",
      "execution_count": 2,
      "outputs": [
        {
          "output_type": "stream",
          "text": [
            "Drive already mounted at /content/drive; to attempt to forcibly remount, call drive.mount(\"/content/drive\", force_remount=True).\n"
          ],
          "name": "stdout"
        }
      ]
    },
    {
      "cell_type": "markdown",
      "metadata": {
        "id": "384ffcd2"
      },
      "source": [
        "# Settings\n",
        "\n",
        "1) Important required libraries"
      ],
      "id": "384ffcd2"
    },
    {
      "cell_type": "code",
      "metadata": {
        "id": "b768aaf0"
      },
      "source": [
        "import numpy as np\n",
        "import torch\n",
        "import torch.nn as nn\n",
        "import torch.optim as optim\n",
        "import torch.nn.init as init\n",
        "import torch.utils.data as data\n",
        "import torchvision.datasets as dset\n",
        "import torchvision.models as models\n",
        "import torchvision.transforms as transforms\n",
        "from torch.utils.data import DataLoader\n",
        "from torch.autograd import Variable\n",
        "import time\n",
        "import matplotlib.pyplot as plt\n",
        "import utils"
      ],
      "id": "b768aaf0",
      "execution_count": 3,
      "outputs": []
    },
    {
      "cell_type": "markdown",
      "metadata": {
        "id": "81a3fd0b"
      },
      "source": [
        "2) Hyperparamter"
      ],
      "id": "81a3fd0b"
    },
    {
      "cell_type": "code",
      "metadata": {
        "id": "a8a3a44c"
      },
      "source": [
        "batch_size = 16 #64 # 1\n",
        "learning_rate = 0.0001\n",
        "epoch = 20\n",
        "\n",
        "n_node = 1024\n",
        "dropratio = 0.5\n",
        "\n",
        "imgsize = 256 # 이미지는 256 사이즈"
      ],
      "id": "a8a3a44c",
      "execution_count": 4,
      "outputs": []
    },
    {
      "cell_type": "markdown",
      "metadata": {
        "id": "92807f4c"
      },
      "source": [
        "# Data Loader\n",
        "\n",
        "training data"
      ],
      "id": "92807f4c"
    },
    {
      "cell_type": "code",
      "metadata": {
        "colab": {
          "base_uri": "https://localhost:8080/"
        },
        "id": "bb07c911",
        "outputId": "014434eb-43a8-4a69-f0d7-986c7688aca7"
      },
      "source": [
        "img_dir = \"/content/drive/MyDrive/Colab Notebooks/심층학습_전이학습/clothes/train\" #train data 내의 cats와 dogs 를 불러옴\n",
        "train_data = dset.ImageFolder(img_dir, transforms.Compose([\n",
        "                                                          transforms.CenterCrop(imgsize*2), \n",
        "                                                          transforms.RandomCrop(imgsize),\n",
        "                                                          transforms.RandomHorizontalFlip(),\n",
        "                                                          transforms.Resize(imgsize),\n",
        "                                                          transforms.ToTensor()]))\n",
        "print(train_data.__len__()) # train data가 몇 개 있는지\n",
        "\n",
        "train_batch = data.DataLoader(train_data, batch_size = batch_size, shuffle = True, num_workers=2)"
      ],
      "id": "bb07c911",
      "execution_count": 6,
      "outputs": [
        {
          "output_type": "stream",
          "text": [
            "141\n"
          ],
          "name": "stdout"
        }
      ]
    },
    {
      "cell_type": "markdown",
      "metadata": {
        "id": "1b01f8a9"
      },
      "source": [
        "### 고정된 데이터 셋"
      ],
      "id": "1b01f8a9"
    },
    {
      "cell_type": "code",
      "metadata": {
        "id": "7d6b15ab"
      },
      "source": [
        "# dev_data / val_data\n",
        "img_dir = \"/content/drive/MyDrive/Colab Notebooks/심층학습_전이학습/clothes/val\"\n",
        "dev_data = dset.ImageFolder(img_dir, transforms.Compose([\n",
        "                                                         #transfroms.Scale(256),\n",
        "                                                         #transfroms.RandomSizedCrop(224),\n",
        "\n",
        "                                                         transforms.CenterCrop(size=imgsize),\n",
        "                                                         transforms.Resize(imgsize),\n",
        "                                                         transforms.ToTensor()]))\n",
        "\n",
        "dev_batch = data.DataLoader(dev_data, batch_size= batch_size, shuffle=False, num_workers=2)\n",
        "\n",
        "# 하이퍼파라미터 튜닝을 위한 것. 이로 가장 성능이 잘 나오는 하이퍼파라미터 셋을 설정해야함.\n",
        "# 그 후 테스트 데이터로 성능 한 번 측정"
      ],
      "id": "7d6b15ab",
      "execution_count": 8,
      "outputs": []
    },
    {
      "cell_type": "code",
      "metadata": {
        "id": "a4c6cbfb"
      },
      "source": [
        "# 3. Test data\n",
        "img_dir = \"/content/drive/MyDrive/Colab Notebooks/심층학습_전이학습/clothes/test\"\n",
        "\n",
        "test_data = dset.ImageFolder(img_dir, transforms.Compose([\n",
        "                                                         #transfroms.Scale(256),\n",
        "                                                         #transfroms.RandomSizedCrop(224),\n",
        "\n",
        "                                                         transforms.CenterCrop(size=imgsize),\n",
        "                                                         transforms.Resize(imgsize),\n",
        "                                                         transforms.ToTensor()]))\n",
        "test_batch = data.DataLoader(test_data, batch_size=batch_size, shuffle=False, num_workers=2)"
      ],
      "id": "a4c6cbfb",
      "execution_count": 9,
      "outputs": []
    },
    {
      "cell_type": "code",
      "metadata": {
        "colab": {
          "base_uri": "https://localhost:8080/"
        },
        "id": "c91b0aeb",
        "outputId": "b14b2ce0-f83c-40fd-c20d-65315b181eb1"
      },
      "source": [
        "nclass = len(train_data.classes)\n",
        "print(\" # of classes : %d\" %nclass)\n",
        "print(train_data.classes)\n",
        "print(train_data.class_to_idx)\n",
        "print(train_data.__len__())\n",
        "\n",
        "print(\"Training : %d, Dev : %d, Test : %d\" %(train_data.__len__(),dev_data.__len__(),test_data.__len__() ))\n"
      ],
      "id": "c91b0aeb",
      "execution_count": 10,
      "outputs": [
        {
          "output_type": "stream",
          "text": [
            " # of classes : 3\n",
            "['hat', 'pants', 'tshirt']\n",
            "{'hat': 0, 'pants': 1, 'tshirt': 2}\n",
            "141\n",
            "Training : 141, Dev : 56, Test : 70\n"
          ],
          "name": "stdout"
        }
      ]
    },
    {
      "cell_type": "code",
      "metadata": {
        "colab": {
          "base_uri": "https://localhost:8080/"
        },
        "id": "6c266eaf",
        "outputId": "47c2e73b-56ba-40ae-de28-3d4b22e7e042"
      },
      "source": [
        "print(train_data.classes)\n",
        "print(dev_data.classes)\n",
        "print(test_data.classes)"
      ],
      "id": "6c266eaf",
      "execution_count": 11,
      "outputs": [
        {
          "output_type": "stream",
          "text": [
            "['hat', 'pants', 'tshirt']\n",
            "['hat', 'pants', 'tshirt']\n",
            "['hat', 'pants', 'tshirt']\n"
          ],
          "name": "stdout"
        }
      ]
    },
    {
      "cell_type": "markdown",
      "metadata": {
        "id": "907cf7f4"
      },
      "source": [
        "# Model\n",
        "\n",
        "1) Pretrained VGG Model"
      ],
      "id": "907cf7f4"
    },
    {
      "cell_type": "code",
      "metadata": {
        "colab": {
          "base_uri": "https://localhost:8080/",
          "height": 970,
          "referenced_widgets": [
            "0ebff0654d924adeadbd50b92365bbf1",
            "f117775d880d408d9f11fe3f65386c7f",
            "2255100b9a4348cb9d4e3bf0520fe87e",
            "aa6013d35a30487290d3128ce8232d9d",
            "8a036711b31942b9a8a82bacf0506daf",
            "95ab9243261340b9912668d339db4bea",
            "2641b973a95d4aa8a5e6ae526ee9e1c8",
            "99e582744cfa4950b67f18cbc00f223e"
          ]
        },
        "id": "258be1ed",
        "outputId": "997490dc-3065-4e8e-cacd-873f812341e1"
      },
      "source": [
        "vgg = models.vgg19(pretrained=True)\n",
        "# vgg19 라는 모델클래스 선언함. -> pretrained = True => 미리 학습된 파라미터 get\n",
        "# 만약 False 면 구조만 가지고 오게 됨.\n",
        "for name, module in vgg.named_children():\n",
        "    print(name)\n",
        "\n",
        "print(list(vgg.children())[0])\n",
        "print(list(vgg.children())[-1])"
      ],
      "id": "258be1ed",
      "execution_count": 12,
      "outputs": [
        {
          "output_type": "stream",
          "text": [
            "Downloading: \"https://download.pytorch.org/models/vgg19-dcbb9e9d.pth\" to /root/.cache/torch/hub/checkpoints/vgg19-dcbb9e9d.pth\n"
          ],
          "name": "stderr"
        },
        {
          "output_type": "display_data",
          "data": {
            "application/vnd.jupyter.widget-view+json": {
              "model_id": "0ebff0654d924adeadbd50b92365bbf1",
              "version_minor": 0,
              "version_major": 2
            },
            "text/plain": [
              "HBox(children=(FloatProgress(value=0.0, max=574673361.0), HTML(value='')))"
            ]
          },
          "metadata": {
            "tags": []
          }
        },
        {
          "output_type": "stream",
          "text": [
            "\n",
            "features\n",
            "avgpool\n",
            "classifier\n",
            "Sequential(\n",
            "  (0): Conv2d(3, 64, kernel_size=(3, 3), stride=(1, 1), padding=(1, 1))\n",
            "  (1): ReLU(inplace=True)\n",
            "  (2): Conv2d(64, 64, kernel_size=(3, 3), stride=(1, 1), padding=(1, 1))\n",
            "  (3): ReLU(inplace=True)\n",
            "  (4): MaxPool2d(kernel_size=2, stride=2, padding=0, dilation=1, ceil_mode=False)\n",
            "  (5): Conv2d(64, 128, kernel_size=(3, 3), stride=(1, 1), padding=(1, 1))\n",
            "  (6): ReLU(inplace=True)\n",
            "  (7): Conv2d(128, 128, kernel_size=(3, 3), stride=(1, 1), padding=(1, 1))\n",
            "  (8): ReLU(inplace=True)\n",
            "  (9): MaxPool2d(kernel_size=2, stride=2, padding=0, dilation=1, ceil_mode=False)\n",
            "  (10): Conv2d(128, 256, kernel_size=(3, 3), stride=(1, 1), padding=(1, 1))\n",
            "  (11): ReLU(inplace=True)\n",
            "  (12): Conv2d(256, 256, kernel_size=(3, 3), stride=(1, 1), padding=(1, 1))\n",
            "  (13): ReLU(inplace=True)\n",
            "  (14): Conv2d(256, 256, kernel_size=(3, 3), stride=(1, 1), padding=(1, 1))\n",
            "  (15): ReLU(inplace=True)\n",
            "  (16): Conv2d(256, 256, kernel_size=(3, 3), stride=(1, 1), padding=(1, 1))\n",
            "  (17): ReLU(inplace=True)\n",
            "  (18): MaxPool2d(kernel_size=2, stride=2, padding=0, dilation=1, ceil_mode=False)\n",
            "  (19): Conv2d(256, 512, kernel_size=(3, 3), stride=(1, 1), padding=(1, 1))\n",
            "  (20): ReLU(inplace=True)\n",
            "  (21): Conv2d(512, 512, kernel_size=(3, 3), stride=(1, 1), padding=(1, 1))\n",
            "  (22): ReLU(inplace=True)\n",
            "  (23): Conv2d(512, 512, kernel_size=(3, 3), stride=(1, 1), padding=(1, 1))\n",
            "  (24): ReLU(inplace=True)\n",
            "  (25): Conv2d(512, 512, kernel_size=(3, 3), stride=(1, 1), padding=(1, 1))\n",
            "  (26): ReLU(inplace=True)\n",
            "  (27): MaxPool2d(kernel_size=2, stride=2, padding=0, dilation=1, ceil_mode=False)\n",
            "  (28): Conv2d(512, 512, kernel_size=(3, 3), stride=(1, 1), padding=(1, 1))\n",
            "  (29): ReLU(inplace=True)\n",
            "  (30): Conv2d(512, 512, kernel_size=(3, 3), stride=(1, 1), padding=(1, 1))\n",
            "  (31): ReLU(inplace=True)\n",
            "  (32): Conv2d(512, 512, kernel_size=(3, 3), stride=(1, 1), padding=(1, 1))\n",
            "  (33): ReLU(inplace=True)\n",
            "  (34): Conv2d(512, 512, kernel_size=(3, 3), stride=(1, 1), padding=(1, 1))\n",
            "  (35): ReLU(inplace=True)\n",
            "  (36): MaxPool2d(kernel_size=2, stride=2, padding=0, dilation=1, ceil_mode=False)\n",
            ")\n",
            "Sequential(\n",
            "  (0): Linear(in_features=25088, out_features=4096, bias=True)\n",
            "  (1): ReLU(inplace=True)\n",
            "  (2): Dropout(p=0.5, inplace=False)\n",
            "  (3): Linear(in_features=4096, out_features=4096, bias=True)\n",
            "  (4): ReLU(inplace=True)\n",
            "  (5): Dropout(p=0.5, inplace=False)\n",
            "  (6): Linear(in_features=4096, out_features=1000, bias=True)\n",
            ")\n"
          ],
          "name": "stdout"
        }
      ]
    },
    {
      "cell_type": "code",
      "metadata": {
        "colab": {
          "base_uri": "https://localhost:8080/"
        },
        "id": "36d5e199",
        "outputId": "9b05e397-674e-4a9a-ef1a-e27f8f1680e6"
      },
      "source": [
        "print(list(vgg.children())[0][0])"
      ],
      "id": "36d5e199",
      "execution_count": 13,
      "outputs": [
        {
          "output_type": "stream",
          "text": [
            "Conv2d(3, 64, kernel_size=(3, 3), stride=(1, 1), padding=(1, 1))\n"
          ],
          "name": "stdout"
        }
      ]
    },
    {
      "cell_type": "markdown",
      "metadata": {
        "id": "5df72710"
      },
      "source": [
        "2) Customized Fully Model"
      ],
      "id": "5df72710"
    },
    {
      "cell_type": "code",
      "metadata": {
        "id": "f4a57908"
      },
      "source": [
        "base_dim = 64\n",
        "fsize = imgsize/32\n",
        "\n",
        "class MyVGG(nn.Module) : \n",
        "      def __init__(self):\n",
        "        super(MyVGG, self).__init__()\n",
        "        # [0] : features(conv), [1] : classifier(fc)\n",
        "        self.layer0 = nn.Sequential(*list(vgg.children())[0])\n",
        "\n",
        "        self.layer1 = nn.Sequential(  # 내가 대체하는 부분\n",
        "            nn.Linear(int(8*base_dim * fsize * fsize), n_node),\n",
        "            # n_node만 내가 원하는 값\n",
        "            nn.BatchNorm1d(n_node),\n",
        "            nn.ReLU(),\n",
        "            nn.Dropout2d(dropratio),\n",
        "\n",
        "            nn.BatchNorm1d(n_node),\n",
        "            nn.ReLU(),\n",
        "            nn.Dropout2d(dropratio),\n",
        "\n",
        "            nn.Linear(n_node, n_node),\n",
        "            nn.BatchNorm1d(n_node),\n",
        "            nn.ReLU(),\n",
        "            nn.Dropout2d(dropratio),\n",
        "\n",
        "            nn.Linear(n_node, nclass), # 주의해야할 부분 -> 클래스가 몇 개인지\n",
        "                )\n",
        "        # weight initialization\n",
        "        for m in self.layer1.modules() :\n",
        "            if isinstance(m, nn.Conv2d) : \n",
        "                init.kaiming_normal(m.weight.data) # ReLU 일때\n",
        "                m.bias.data.fill_(0)\n",
        "            if isinstance(m, nn.Linear) : \n",
        "                init.kaiming_normal(m.weight.data) \n",
        "                m.bias.data.fill_(0)\n",
        "        \n",
        "        def forward(self, x) :\n",
        "            # layer0의 사이즈를 무식하게 프린트하여 알아낼 숭 ㅣㅆ음\n",
        "            # print(x.size())\n",
        "            out = self.layer0(x)\n",
        "            out = out.view(out.size(0), -1) # feature map을 한 줄로 펴달라는 의미\n",
        "            out = self.layer1(out) # FC로 선언한 layer1에 넣어줘\n",
        "            return out"
      ],
      "id": "f4a57908",
      "execution_count": 14,
      "outputs": []
    },
    {
      "cell_type": "markdown",
      "metadata": {
        "id": "f970149c"
      },
      "source": [
        "3) Model on GPU"
      ],
      "id": "f970149c"
    },
    {
      "cell_type": "code",
      "metadata": {
        "colab": {
          "base_uri": "https://localhost:8080/"
        },
        "id": "f9ed3969",
        "outputId": "11dc10f3-2324-452c-f828-865559b72954"
      },
      "source": [
        "model = MyVGG().cuda()\n",
        "\n",
        "for params in model.layer0.parameters():\n",
        "    params.required_grad = False\n",
        "\n",
        "for params in model.layer1.parameters():\n",
        "    params.required_grad = True\n",
        "    \n",
        "for name in model.children():\n",
        "      print(name)"
      ],
      "id": "f9ed3969",
      "execution_count": 15,
      "outputs": [
        {
          "output_type": "stream",
          "text": [
            "/usr/local/lib/python3.7/dist-packages/ipykernel_launcher.py:34: UserWarning: nn.init.kaiming_normal is now deprecated in favor of nn.init.kaiming_normal_.\n"
          ],
          "name": "stderr"
        },
        {
          "output_type": "stream",
          "text": [
            "Sequential(\n",
            "  (0): Conv2d(3, 64, kernel_size=(3, 3), stride=(1, 1), padding=(1, 1))\n",
            "  (1): ReLU(inplace=True)\n",
            "  (2): Conv2d(64, 64, kernel_size=(3, 3), stride=(1, 1), padding=(1, 1))\n",
            "  (3): ReLU(inplace=True)\n",
            "  (4): MaxPool2d(kernel_size=2, stride=2, padding=0, dilation=1, ceil_mode=False)\n",
            "  (5): Conv2d(64, 128, kernel_size=(3, 3), stride=(1, 1), padding=(1, 1))\n",
            "  (6): ReLU(inplace=True)\n",
            "  (7): Conv2d(128, 128, kernel_size=(3, 3), stride=(1, 1), padding=(1, 1))\n",
            "  (8): ReLU(inplace=True)\n",
            "  (9): MaxPool2d(kernel_size=2, stride=2, padding=0, dilation=1, ceil_mode=False)\n",
            "  (10): Conv2d(128, 256, kernel_size=(3, 3), stride=(1, 1), padding=(1, 1))\n",
            "  (11): ReLU(inplace=True)\n",
            "  (12): Conv2d(256, 256, kernel_size=(3, 3), stride=(1, 1), padding=(1, 1))\n",
            "  (13): ReLU(inplace=True)\n",
            "  (14): Conv2d(256, 256, kernel_size=(3, 3), stride=(1, 1), padding=(1, 1))\n",
            "  (15): ReLU(inplace=True)\n",
            "  (16): Conv2d(256, 256, kernel_size=(3, 3), stride=(1, 1), padding=(1, 1))\n",
            "  (17): ReLU(inplace=True)\n",
            "  (18): MaxPool2d(kernel_size=2, stride=2, padding=0, dilation=1, ceil_mode=False)\n",
            "  (19): Conv2d(256, 512, kernel_size=(3, 3), stride=(1, 1), padding=(1, 1))\n",
            "  (20): ReLU(inplace=True)\n",
            "  (21): Conv2d(512, 512, kernel_size=(3, 3), stride=(1, 1), padding=(1, 1))\n",
            "  (22): ReLU(inplace=True)\n",
            "  (23): Conv2d(512, 512, kernel_size=(3, 3), stride=(1, 1), padding=(1, 1))\n",
            "  (24): ReLU(inplace=True)\n",
            "  (25): Conv2d(512, 512, kernel_size=(3, 3), stride=(1, 1), padding=(1, 1))\n",
            "  (26): ReLU(inplace=True)\n",
            "  (27): MaxPool2d(kernel_size=2, stride=2, padding=0, dilation=1, ceil_mode=False)\n",
            "  (28): Conv2d(512, 512, kernel_size=(3, 3), stride=(1, 1), padding=(1, 1))\n",
            "  (29): ReLU(inplace=True)\n",
            "  (30): Conv2d(512, 512, kernel_size=(3, 3), stride=(1, 1), padding=(1, 1))\n",
            "  (31): ReLU(inplace=True)\n",
            "  (32): Conv2d(512, 512, kernel_size=(3, 3), stride=(1, 1), padding=(1, 1))\n",
            "  (33): ReLU(inplace=True)\n",
            "  (34): Conv2d(512, 512, kernel_size=(3, 3), stride=(1, 1), padding=(1, 1))\n",
            "  (35): ReLU(inplace=True)\n",
            "  (36): MaxPool2d(kernel_size=2, stride=2, padding=0, dilation=1, ceil_mode=False)\n",
            ")\n",
            "Sequential(\n",
            "  (0): Linear(in_features=32768, out_features=1024, bias=True)\n",
            "  (1): BatchNorm1d(1024, eps=1e-05, momentum=0.1, affine=True, track_running_stats=True)\n",
            "  (2): ReLU()\n",
            "  (3): Dropout2d(p=0.5, inplace=False)\n",
            "  (4): BatchNorm1d(1024, eps=1e-05, momentum=0.1, affine=True, track_running_stats=True)\n",
            "  (5): ReLU()\n",
            "  (6): Dropout2d(p=0.5, inplace=False)\n",
            "  (7): Linear(in_features=1024, out_features=1024, bias=True)\n",
            "  (8): BatchNorm1d(1024, eps=1e-05, momentum=0.1, affine=True, track_running_stats=True)\n",
            "  (9): ReLU()\n",
            "  (10): Dropout2d(p=0.5, inplace=False)\n",
            "  (11): Linear(in_features=1024, out_features=3, bias=True)\n",
            ")\n"
          ],
          "name": "stdout"
        }
      ]
    },
    {
      "cell_type": "markdown",
      "metadata": {
        "id": "bc3003a7"
      },
      "source": [
        "# 4. Optimizer & Loss"
      ],
      "id": "bc3003a7"
    },
    {
      "cell_type": "code",
      "metadata": {
        "id": "c64ace43"
      },
      "source": [
        "loss_func = nn.CrossEntropyLoss()\n",
        "optimizer = optim.Adam(model.layer1.parameters(), lr=learning_rate)"
      ],
      "id": "c64ace43",
      "execution_count": 16,
      "outputs": []
    },
    {
      "cell_type": "markdown",
      "metadata": {
        "id": "74a3c6a7"
      },
      "source": [
        "# 5. Train"
      ],
      "id": "74a3c6a7"
    },
    {
      "cell_type": "code",
      "metadata": {
        "colab": {
          "base_uri": "https://localhost:8080/",
          "height": 392
        },
        "id": "4ee767e3",
        "outputId": "bf474595-e517-4fd6-ce06-90a5eceeb7d6"
      },
      "source": [
        "import utils\n",
        "\n",
        "total_time = 0\n",
        "disp_step = 10\n",
        "\n",
        "to_train = True\n",
        "\n",
        "if (to_train == False):\n",
        "    netname = \"nets/catdog_vgg19_19.pkl\"\n",
        "    model = torch.load(netname)\n",
        "else : \n",
        "    print(\"3 layer, n_node : %d, dropratio : %.2f\" %(n_node, dropratio))\n",
        "    model.eval()\n",
        "    train_corr = utils.ComputeCorr(train_batch, model)\n",
        "    dev_corr = utils.ComputeCorr(dev_batch, model)\n",
        "    test_corr = utils.ComputeCorr(test_batch, model)\n",
        "    print(\"Correct of train : %.2f, dev %.2f, test : %.2f\" %(train_corr,dev_corr,test_corr))\n",
        "    model.train()\n",
        "    \n",
        "    netname = 'nets/media_vgg19'\n",
        "\n",
        "    # graph 그리기\n",
        "    x_epoch = []\n",
        "    y_train_err = []\n",
        "    y_dev_err = []\n",
        "    y_test_err = []\n",
        "    \n",
        "    x_epoch.append(0)\n",
        "    y_train_err.append(100.0-train_corr)\n",
        "    y_dev_err.append(100.0-dev_corr)\n",
        "    y_test_err.append(100.0-test_corr)\n",
        "    \n",
        "#     # 학습을 재시작한다면\n",
        "#     netname = '../nets/media_pre_vgg19.pkl'\n",
        "#     model = torch.load(netname)\n",
        "#     # 파라미터 학습 여부 결정\n",
        "#     for params in model.layer0.parameters():\n",
        "#         params.required_grad = False    \n",
        "#     for params in model.layer1.parameters():\n",
        "#         params.required_grad = True\n",
        "#     for i in range(34, epoch):\n",
        "    \n",
        "    # 재시작하지 않는 다면\n",
        "    for i in range(epoch):\n",
        "        start_time = time.time()\n",
        "        print(\"%d..\" %i),\n",
        "        for img,label in train_batch:\n",
        "            img = Variable(img).cuda()\n",
        "            label = Variable(label).cuda()\n",
        "\n",
        "            optimizer.zero_grad()\n",
        "            output = model(img)\n",
        "            loss = loss_func(output,label)\n",
        "            loss.backward()\n",
        "            optimizer.step()\n",
        "\n",
        "        end_time = time.time()\n",
        "        duration = end_time - start_time\n",
        "        total_time += duration\n",
        "        if (i % disp_step == 0) or (i==epoch-1):\n",
        "            torch.save(model, netname+'_%d.pkl'%i, )\n",
        "            print(\"\\n[%d/%d] loss: %.3f, \" %(i, epoch, (loss.cpu()).data.numpy())),\n",
        "            \n",
        "            # train, dev, train accr\n",
        "            model.eval()  # evaluation(test) mode 로 바꾸기 -> dropout, batch normalization 에 영향을 줌.\n",
        "            train_corr = utils.ComputeCorr(train_batch, model)\n",
        "            dev_corr = utils.ComputeCorr(dev_batch, model)\n",
        "            test_corr = utils.ComputeCorr(test_batch, model)\n",
        "            print(\"Correct of train: %.2f, dev: %.2f, test: %.2f, \" \n",
        "                  %(train_corr, dev_corr, test_corr)),\n",
        "            model.train()            \n",
        "            print(\"time: %.2f sec..\" %(total_time))\n",
        "            \n",
        "            # graph 그리기\n",
        "            x_epoch.append(i+1)\n",
        "            y_train_err.append(100.0-train_corr)\n",
        "            y_dev_err.append(100.0-dev_corr)\n",
        "            y_test_err.append(100.0-test_corr)\n",
        "    print(\"Total time: %.2f sec\" %total_time)"
      ],
      "id": "4ee767e3",
      "execution_count": 17,
      "outputs": [
        {
          "output_type": "stream",
          "text": [
            "3 layer, n_node : 1024, dropratio : 0.50\n"
          ],
          "name": "stdout"
        },
        {
          "output_type": "error",
          "ename": "NotImplementedError",
          "evalue": "ignored",
          "traceback": [
            "\u001b[0;31m---------------------------------------------------------------------------\u001b[0m",
            "\u001b[0;31mNotImplementedError\u001b[0m                       Traceback (most recent call last)",
            "\u001b[0;32m<ipython-input-17-2a543d766a63>\u001b[0m in \u001b[0;36m<module>\u001b[0;34m()\u001b[0m\n\u001b[1;32m     12\u001b[0m     \u001b[0mprint\u001b[0m\u001b[0;34m(\u001b[0m\u001b[0;34m\"3 layer, n_node : %d, dropratio : %.2f\"\u001b[0m \u001b[0;34m%\u001b[0m\u001b[0;34m(\u001b[0m\u001b[0mn_node\u001b[0m\u001b[0;34m,\u001b[0m \u001b[0mdropratio\u001b[0m\u001b[0;34m)\u001b[0m\u001b[0;34m)\u001b[0m\u001b[0;34m\u001b[0m\u001b[0;34m\u001b[0m\u001b[0m\n\u001b[1;32m     13\u001b[0m     \u001b[0mmodel\u001b[0m\u001b[0;34m.\u001b[0m\u001b[0meval\u001b[0m\u001b[0;34m(\u001b[0m\u001b[0;34m)\u001b[0m\u001b[0;34m\u001b[0m\u001b[0;34m\u001b[0m\u001b[0m\n\u001b[0;32m---> 14\u001b[0;31m     \u001b[0mtrain_corr\u001b[0m \u001b[0;34m=\u001b[0m \u001b[0mutils\u001b[0m\u001b[0;34m.\u001b[0m\u001b[0mComputeCorr\u001b[0m\u001b[0;34m(\u001b[0m\u001b[0mtrain_batch\u001b[0m\u001b[0;34m,\u001b[0m \u001b[0mmodel\u001b[0m\u001b[0;34m)\u001b[0m\u001b[0;34m\u001b[0m\u001b[0;34m\u001b[0m\u001b[0m\n\u001b[0m\u001b[1;32m     15\u001b[0m     \u001b[0mdev_corr\u001b[0m \u001b[0;34m=\u001b[0m \u001b[0mutils\u001b[0m\u001b[0;34m.\u001b[0m\u001b[0mComputeCorr\u001b[0m\u001b[0;34m(\u001b[0m\u001b[0mdev_batch\u001b[0m\u001b[0;34m,\u001b[0m \u001b[0mmodel\u001b[0m\u001b[0;34m)\u001b[0m\u001b[0;34m\u001b[0m\u001b[0;34m\u001b[0m\u001b[0m\n\u001b[1;32m     16\u001b[0m     \u001b[0mtest_corr\u001b[0m \u001b[0;34m=\u001b[0m \u001b[0mutils\u001b[0m\u001b[0;34m.\u001b[0m\u001b[0mComputeCorr\u001b[0m\u001b[0;34m(\u001b[0m\u001b[0mtest_batch\u001b[0m\u001b[0;34m,\u001b[0m \u001b[0mmodel\u001b[0m\u001b[0;34m)\u001b[0m\u001b[0;34m\u001b[0m\u001b[0;34m\u001b[0m\u001b[0m\n",
            "\u001b[0;32m/content/utils.py\u001b[0m in \u001b[0;36mComputeCorr\u001b[0;34m(i_data_batch, i_model)\u001b[0m\n\u001b[1;32m     24\u001b[0m         \u001b[0mlabel\u001b[0m \u001b[0;34m=\u001b[0m \u001b[0mVariable\u001b[0m\u001b[0;34m(\u001b[0m\u001b[0mlabel\u001b[0m\u001b[0;34m)\u001b[0m\u001b[0;34m.\u001b[0m\u001b[0mcuda\u001b[0m\u001b[0;34m(\u001b[0m\u001b[0;34m)\u001b[0m\u001b[0;34m\u001b[0m\u001b[0;34m\u001b[0m\u001b[0m\n\u001b[1;32m     25\u001b[0m \u001b[0;34m\u001b[0m\u001b[0m\n\u001b[0;32m---> 26\u001b[0;31m         \u001b[0moutput\u001b[0m \u001b[0;34m=\u001b[0m \u001b[0mi_model\u001b[0m\u001b[0;34m(\u001b[0m\u001b[0mimg\u001b[0m\u001b[0;34m)\u001b[0m\u001b[0;34m\u001b[0m\u001b[0;34m\u001b[0m\u001b[0m\n\u001b[0m\u001b[1;32m     27\u001b[0m         \u001b[0m_\u001b[0m\u001b[0;34m,\u001b[0m \u001b[0moutput_index\u001b[0m \u001b[0;34m=\u001b[0m \u001b[0mtorch\u001b[0m\u001b[0;34m.\u001b[0m\u001b[0mmax\u001b[0m\u001b[0;34m(\u001b[0m\u001b[0moutput\u001b[0m\u001b[0;34m,\u001b[0m \u001b[0;36m1\u001b[0m\u001b[0;34m)\u001b[0m\u001b[0;34m\u001b[0m\u001b[0;34m\u001b[0m\u001b[0m\n\u001b[1;32m     28\u001b[0m \u001b[0;34m\u001b[0m\u001b[0m\n",
            "\u001b[0;32m/usr/local/lib/python3.7/dist-packages/torch/nn/modules/module.py\u001b[0m in \u001b[0;36m_call_impl\u001b[0;34m(self, *input, **kwargs)\u001b[0m\n\u001b[1;32m    887\u001b[0m             \u001b[0mresult\u001b[0m \u001b[0;34m=\u001b[0m \u001b[0mself\u001b[0m\u001b[0;34m.\u001b[0m\u001b[0m_slow_forward\u001b[0m\u001b[0;34m(\u001b[0m\u001b[0;34m*\u001b[0m\u001b[0minput\u001b[0m\u001b[0;34m,\u001b[0m \u001b[0;34m**\u001b[0m\u001b[0mkwargs\u001b[0m\u001b[0;34m)\u001b[0m\u001b[0;34m\u001b[0m\u001b[0;34m\u001b[0m\u001b[0m\n\u001b[1;32m    888\u001b[0m         \u001b[0;32melse\u001b[0m\u001b[0;34m:\u001b[0m\u001b[0;34m\u001b[0m\u001b[0;34m\u001b[0m\u001b[0m\n\u001b[0;32m--> 889\u001b[0;31m             \u001b[0mresult\u001b[0m \u001b[0;34m=\u001b[0m \u001b[0mself\u001b[0m\u001b[0;34m.\u001b[0m\u001b[0mforward\u001b[0m\u001b[0;34m(\u001b[0m\u001b[0;34m*\u001b[0m\u001b[0minput\u001b[0m\u001b[0;34m,\u001b[0m \u001b[0;34m**\u001b[0m\u001b[0mkwargs\u001b[0m\u001b[0;34m)\u001b[0m\u001b[0;34m\u001b[0m\u001b[0;34m\u001b[0m\u001b[0m\n\u001b[0m\u001b[1;32m    890\u001b[0m         for hook in itertools.chain(\n\u001b[1;32m    891\u001b[0m                 \u001b[0m_global_forward_hooks\u001b[0m\u001b[0;34m.\u001b[0m\u001b[0mvalues\u001b[0m\u001b[0;34m(\u001b[0m\u001b[0;34m)\u001b[0m\u001b[0;34m,\u001b[0m\u001b[0;34m\u001b[0m\u001b[0;34m\u001b[0m\u001b[0m\n",
            "\u001b[0;32m/usr/local/lib/python3.7/dist-packages/torch/nn/modules/module.py\u001b[0m in \u001b[0;36m_forward_unimplemented\u001b[0;34m(self, *input)\u001b[0m\n\u001b[1;32m    199\u001b[0m         \u001b[0mregistered\u001b[0m \u001b[0mhooks\u001b[0m \u001b[0;32mwhile\u001b[0m \u001b[0mthe\u001b[0m \u001b[0mlatter\u001b[0m \u001b[0msilently\u001b[0m \u001b[0mignores\u001b[0m \u001b[0mthem\u001b[0m\u001b[0;34m.\u001b[0m\u001b[0;34m\u001b[0m\u001b[0;34m\u001b[0m\u001b[0m\n\u001b[1;32m    200\u001b[0m     \"\"\"\n\u001b[0;32m--> 201\u001b[0;31m     \u001b[0;32mraise\u001b[0m \u001b[0mNotImplementedError\u001b[0m\u001b[0;34m\u001b[0m\u001b[0;34m\u001b[0m\u001b[0m\n\u001b[0m\u001b[1;32m    202\u001b[0m \u001b[0;34m\u001b[0m\u001b[0m\n\u001b[1;32m    203\u001b[0m \u001b[0;34m\u001b[0m\u001b[0m\n",
            "\u001b[0;31mNotImplementedError\u001b[0m: "
          ]
        }
      ]
    },
    {
      "cell_type": "code",
      "metadata": {
        "id": "47ec3cfd"
      },
      "source": [
        "# epoch-err curve \n",
        "if (to_train):\n",
        "    plt.plot(x_epoch, y_train_err, color='black', label='train err', linestyle='--')\n",
        "    plt.plot(x_epoch, y_dev_err, color='red', label='dev err')\n",
        "    plt.plot(x_epoch, y_test_err, color='blue', label='test err')\n",
        "    \n",
        "    plt.xlabel('epoch')\n",
        "    plt.ylabel('err')\n",
        "    plt.title('epoch & err graph')\n",
        "    plt.legend(loc=\"upper right\")\n",
        "    plt.show()"
      ],
      "id": "47ec3cfd",
      "execution_count": null,
      "outputs": []
    },
    {
      "cell_type": "markdown",
      "metadata": {
        "id": "cc85a28c"
      },
      "source": [
        "# 6. Evaluation for dev & test data"
      ],
      "id": "cc85a28c"
    },
    {
      "cell_type": "code",
      "metadata": {
        "id": "bc869681"
      },
      "source": [
        "model.eval()   # evaluation(test) mode 로 바꾸기 -> dropout, batch normalization 에 영향을 줌.\n",
        "utils.EvaluateClassifier(dev_batch, model, dev_data.classes, batch_size)"
      ],
      "id": "bc869681",
      "execution_count": null,
      "outputs": []
    },
    {
      "cell_type": "code",
      "metadata": {
        "id": "381aee4c"
      },
      "source": [
        "model.eval()\n",
        "_, _,_ = utils.EvaluateClassifier(test_batch, model, test_data.classes, batch_size)"
      ],
      "id": "381aee4c",
      "execution_count": null,
      "outputs": []
    },
    {
      "cell_type": "code",
      "metadata": {
        "id": "89bed70b"
      },
      "source": [
        "utils.VisTFPred(test_batch, model, test_data.classes, batch_size, i_n=2)"
      ],
      "id": "89bed70b",
      "execution_count": null,
      "outputs": []
    }
  ]
}